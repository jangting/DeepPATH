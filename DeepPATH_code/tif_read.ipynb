{
 "cells": [
  {
   "cell_type": "code",
   "execution_count": 6,
   "metadata": {},
   "outputs": [],
   "source": [
    "from PIL import Image\n",
    "import os\n",
    "import multiresolutionimageinterface as mir\n",
    "from glob import glob\n",
    "import numpy as np"
   ]
  },
  {
   "cell_type": "code",
   "execution_count": 11,
   "metadata": {},
   "outputs": [
    {
     "name": "stdout",
     "output_type": "stream",
     "text": [
      "(97792, 221184)\n",
      "(97792, 215552)\n",
      "97792.0\n",
      "219852.8\n",
      "21499845017.6\n"
     ]
    }
   ],
   "source": [
    "tif_path_list = glob(\"/home/jangting/dataset/Breast/train/*.tif\")\n",
    "\n",
    "min_val = 1000000000000\n",
    "max_val = 0\n",
    "min_size = None\n",
    "max_size = None\n",
    "\n",
    "shape_0 = []\n",
    "shape_1 = []\n",
    "val_sum = []\n",
    "\n",
    "for tif_path in tif_path_list:\n",
    "    reader = mir.MultiResolutionImageReader()\n",
    "    mr_image = reader.open(tif_path)\n",
    "    \n",
    "    shape = mr_image.getDimensions()\n",
    "    \n",
    "    shape_0.append(shape[0])\n",
    "    shape_1.append(shape[1])\n",
    "    \n",
    "    val = shape[0] * shape[1]\n",
    "    val_sum.append(val)\n",
    "    if val > max_val:\n",
    "        max_val = val\n",
    "        max_size = shape\n",
    "    elif val < min_val:\n",
    "        min_val = val\n",
    "        min_size = shape\n",
    "        \n",
    "print(max_size)\n",
    "print(min_size)\n",
    "print(np.average(shape_0))\n",
    "print(np.average(shape_1))\n",
    "print(np.average(val_sum))\n"
   ]
  },
  {
   "cell_type": "code",
   "execution_count": null,
   "metadata": {},
   "outputs": [],
   "source": []
  },
  {
   "cell_type": "code",
   "execution_count": null,
   "metadata": {},
   "outputs": [],
   "source": []
  },
  {
   "cell_type": "code",
   "execution_count": 4,
   "metadata": {},
   "outputs": [],
   "source": [
    "def get_image_arr_from_mr_image(mr_image, level=2):\n",
    "    ds = mr_image.getLevelDownsample(level)\n",
    "    image_patch = mr_image.getUCharPatch(int(mr_image_shape[0]/2), int(mr_image_shape[1]/2), int(1920/4), int(1080/4), level)\n",
    "    return image_patch"
   ]
  },
  {
   "cell_type": "code",
   "execution_count": 1,
   "metadata": {},
   "outputs": [
    {
     "ename": "NameError",
     "evalue": "name 'mir' is not defined",
     "output_type": "error",
     "traceback": [
      "\u001b[0;31m---------------------------------------------------------------------------\u001b[0m",
      "\u001b[0;31mNameError\u001b[0m                                 Traceback (most recent call last)",
      "\u001b[0;32m<ipython-input-1-e7d137cc3c67>\u001b[0m in \u001b[0;36m<module>\u001b[0;34m\u001b[0m\n\u001b[0;32m----> 1\u001b[0;31m \u001b[0mreader\u001b[0m \u001b[0;34m=\u001b[0m \u001b[0mmir\u001b[0m\u001b[0;34m.\u001b[0m\u001b[0mMultiResolutionImageReader\u001b[0m\u001b[0;34m(\u001b[0m\u001b[0;34m)\u001b[0m\u001b[0;34m\u001b[0m\u001b[0;34m\u001b[0m\u001b[0m\n\u001b[0m\u001b[1;32m      2\u001b[0m \u001b[0mmr_image\u001b[0m \u001b[0;34m=\u001b[0m \u001b[0mreader\u001b[0m\u001b[0;34m.\u001b[0m\u001b[0mopen\u001b[0m\u001b[0;34m(\u001b[0m\u001b[0mtif_path\u001b[0m\u001b[0;34m)\u001b[0m\u001b[0;34m\u001b[0m\u001b[0;34m\u001b[0m\u001b[0m\n\u001b[1;32m      3\u001b[0m \u001b[0mprint\u001b[0m\u001b[0;34m(\u001b[0m\u001b[0mmr_image\u001b[0m\u001b[0;34m.\u001b[0m\u001b[0mgetDimensions\u001b[0m\u001b[0;34m(\u001b[0m\u001b[0;34m)\u001b[0m\u001b[0;34m)\u001b[0m\u001b[0;34m\u001b[0m\u001b[0;34m\u001b[0m\u001b[0m\n\u001b[1;32m      4\u001b[0m \u001b[0;34m\u001b[0m\u001b[0m\n\u001b[1;32m      5\u001b[0m \u001b[0mlevel\u001b[0m \u001b[0;34m=\u001b[0m \u001b[0;36m0\u001b[0m\u001b[0;34m\u001b[0m\u001b[0;34m\u001b[0m\u001b[0m\n",
      "\u001b[0;31mNameError\u001b[0m: name 'mir' is not defined"
     ]
    }
   ],
   "source": [
    "reader = mir.MultiResolutionImageReader()\n",
    "mr_image = reader.open(tif_path)\n",
    "print(mr_image.getDimensions())\n",
    "    \n",
    "level = 0\n",
    "img_arr = get_image_arr_from_mr_image(mr_image, level)\n",
    "\n",
    "img = Image.fromarray(img_arr)\n",
    "img"
   ]
  },
  {
   "cell_type": "code",
   "execution_count": 52,
   "metadata": {},
   "outputs": [],
   "source": [
    "output_annotation_path = \"annotation.tif\""
   ]
  },
  {
   "cell_type": "code",
   "execution_count": 42,
   "metadata": {},
   "outputs": [],
   "source": [
    "def save_annotation_arr(mr_image, output_annotation_path):\n",
    "    annotation_list = mir.AnnotationList()\n",
    "    xml_repository = mir.XmlRepository(annotation_list)\n",
    "\n",
    "    xml_repository.setSource('camelyon17/centre_0/patient_010_node_4.xml')\n",
    "    xml_repository.load()\n",
    "    annotation_mask = mir.AnnotationToMask()\n",
    "    camelyon17_type_mask = True\n",
    "\n",
    "    label_map = {'metastases': 1, 'normal': 2} if camelyon17_type_mask else {'_0': 1, '_1': 1, '_2': 0}\n",
    "    conversion_order = ['metastases', 'normal'] if camelyon17_type_mask else  ['_0', '_1', '_2']\n",
    "    annotation_mask.convert(annotation_list, output_annotation_path, mr_image.getDimensions(), mr_image.getSpacing(), label_map, conversion_order)\n",
    "    \n",
    "save_annotation_arr(mr_image)"
   ]
  },
  {
   "cell_type": "code",
   "execution_count": 57,
   "metadata": {},
   "outputs": [
    {
     "data": {
      "text/plain": [
       "(270, 480, 1)"
      ]
     },
     "execution_count": 57,
     "metadata": {},
     "output_type": "execute_result"
    }
   ],
   "source": [
    "mr_annotation_image = reader.open(output_annotation_path)\n",
    "#print(mr_annotation_image.getDimensions())\n",
    "    \n",
    "annotation_img_arr = get_image_arr_from_mr_image(mr_annotation_image)\n",
    "\n",
    "annotation_img_arr.shape\n",
    "#annoration_img = Image.fromarray(annotation_img_arr)\n",
    "#annoration_img"
   ]
  },
  {
   "cell_type": "code",
   "execution_count": 60,
   "metadata": {},
   "outputs": [
    {
     "data": {
      "text/plain": [
       "0"
      ]
     },
     "execution_count": 60,
     "metadata": {},
     "output_type": "execute_result"
    }
   ],
   "source": [
    "annotation_img_arr.min()"
   ]
  },
  {
   "cell_type": "code",
   "execution_count": null,
   "metadata": {},
   "outputs": [],
   "source": []
  }
 ],
 "metadata": {
  "kernelspec": {
   "display_name": "Python 3",
   "language": "python",
   "name": "python3"
  },
  "language_info": {
   "codemirror_mode": {
    "name": "ipython",
    "version": 3
   },
   "file_extension": ".py",
   "mimetype": "text/x-python",
   "name": "python",
   "nbconvert_exporter": "python",
   "pygments_lexer": "ipython3",
   "version": "3.6.5"
  }
 },
 "nbformat": 4,
 "nbformat_minor": 4
}

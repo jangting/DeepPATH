{
 "cells": [
  {
   "cell_type": "code",
   "execution_count": 10,
   "id": "c139a6b3-d12a-4923-a9fc-aacddb14cd58",
   "metadata": {},
   "outputs": [],
   "source": [
    "from PIL import Image\n",
    "import os\n",
    "import multiresolutionimageinterface as mir\n",
    "from glob import glob\n",
    "import numpy as np"
   ]
  },
  {
   "cell_type": "code",
   "execution_count": 2,
   "id": "3208f4f8-bd63-4f47-bcc0-ea641c38bbd6",
   "metadata": {},
   "outputs": [],
   "source": [
    "def get_image_arr_from_mr_image(mr_image, level=2):\n",
    "    ds = mr_image.getLevelDownsample(level)\n",
    "    image_patch = mr_image.getUCharPatch(int(mr_image_shape[0]/2), int(mr_image_shape[1]/2), int(1920/4), int(1080/4), level)\n",
    "    return image_patch"
   ]
  },
  {
   "cell_type": "code",
   "execution_count": 14,
   "id": "55ef981e-eadc-4246-8a56-92777dda0ed3",
   "metadata": {},
   "outputs": [
    {
     "name": "stdout",
     "output_type": "stream",
     "text": [
      "(73861, 73031)\n",
      "(12000, 11849)\n",
      "36446.34020618557\n",
      "26398.432989690722\n",
      "1113241598.958763\n"
     ]
    }
   ],
   "source": [
    "svs_path_list = glob(\"/home/jangting/dataset/TCGA-LUNG/data/*/*.svs\")\n",
    "\n",
    "min_val = 10000000000\n",
    "max_val = 0\n",
    "min_size = None\n",
    "max_size = None\n",
    "\n",
    "shape_0 = []\n",
    "shape_1 = []\n",
    "val_sum = []\n",
    "\n",
    "for svs_path in svs_path_list:\n",
    "    reader = mir.MultiResolutionImageReader()\n",
    "    mr_image = reader.open(svs_path)\n",
    "    \n",
    "    shape = mr_image.getDimensions()\n",
    "    \n",
    "    shape_0.append(shape[0])\n",
    "    shape_1.append(shape[1])\n",
    "    \n",
    "    val = shape[0] * shape[1]\n",
    "    val_sum.append(val)\n",
    "    if val > max_val:\n",
    "        max_val = val\n",
    "        max_size = shape\n",
    "    elif val < min_val:\n",
    "        min_val = val\n",
    "        min_size = shape\n",
    "        \n",
    "print(max_size)\n",
    "print(min_size)\n",
    "print(np.average(shape_0))\n",
    "print(np.average(shape_1))\n",
    "print(np.average(val_sum))"
   ]
  },
  {
   "cell_type": "code",
   "execution_count": 22,
   "id": "f527bfeb-7223-4b17-9b0f-f80a25e7bc1d",
   "metadata": {},
   "outputs": [
    {
     "data": {
      "text/plain": [
       "19.312829342443933"
      ]
     },
     "execution_count": 22,
     "metadata": {},
     "output_type": "execute_result"
    }
   ],
   "source": [
    "lung = 1113241598.958763\n",
    "breast = 21499845017.6\n",
    "breast / lung"
   ]
  }
 ],
 "metadata": {
  "kernelspec": {
   "display_name": "Python 3",
   "language": "python",
   "name": "python3"
  },
  "language_info": {
   "codemirror_mode": {
    "name": "ipython",
    "version": 3
   },
   "file_extension": ".py",
   "mimetype": "text/x-python",
   "name": "python",
   "nbconvert_exporter": "python",
   "pygments_lexer": "ipython3",
   "version": "3.6.5"
  }
 },
 "nbformat": 4,
 "nbformat_minor": 5
}
